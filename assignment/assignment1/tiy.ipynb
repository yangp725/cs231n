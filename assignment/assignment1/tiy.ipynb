{
 "cells": [
  {
   "cell_type": "code",
   "execution_count": 1,
   "metadata": {
    "collapsed": true
   },
   "outputs": [],
   "source": [
    "import numpy as np"
   ]
  },
  {
   "cell_type": "code",
   "execution_count": 18,
   "metadata": {
    "collapsed": false
   },
   "outputs": [
    {
     "name": "stdout",
     "output_type": "stream",
     "text": [
      "(array([ 0.,  1.,  2.,  3.,  4.,  5.,  6.,  7.,  8.,  9.]), <type 'numpy.ndarray'>)\n",
      "<type 'numpy.ndarray'>\n",
      "[[ 0.]\n",
      " [ 2.]\n",
      " [ 4.]\n",
      " [ 6.]\n",
      " [ 8.]]\n"
     ]
    },
    {
     "ename": "TypeError",
     "evalue": "list indices must be integers, not list",
     "output_type": "error",
     "traceback": [
      "\u001b[1;31m---------------------------------------------------------------------------\u001b[0m",
      "\u001b[1;31mTypeError\u001b[0m                                 Traceback (most recent call last)",
      "\u001b[1;32m<ipython-input-18-a9b5d6f9eb3e>\u001b[0m in \u001b[0;36m<module>\u001b[1;34m()\u001b[0m\n\u001b[0;32m      5\u001b[0m \u001b[0mxd\u001b[0m \u001b[1;33m=\u001b[0m \u001b[0mnp\u001b[0m\u001b[1;33m.\u001b[0m\u001b[0mdelete\u001b[0m\u001b[1;33m(\u001b[0m\u001b[0mxl\u001b[0m\u001b[1;33m,\u001b[0m \u001b[0mnp\u001b[0m\u001b[1;33m.\u001b[0m\u001b[0marray\u001b[0m\u001b[1;33m(\u001b[0m\u001b[1;33m[\u001b[0m\u001b[1;36m1\u001b[0m\u001b[1;33m,\u001b[0m\u001b[1;36m3\u001b[0m\u001b[1;33m]\u001b[0m\u001b[1;33m)\u001b[0m\u001b[1;33m,\u001b[0m \u001b[0maxis\u001b[0m \u001b[1;33m=\u001b[0m \u001b[1;36m1\u001b[0m\u001b[1;33m)\u001b[0m\u001b[1;33m\u001b[0m\u001b[0m\n\u001b[0;32m      6\u001b[0m \u001b[1;32mprint\u001b[0m \u001b[0mxd\u001b[0m\u001b[1;33m\u001b[0m\u001b[0m\n\u001b[1;32m----> 7\u001b[1;33m \u001b[0mxt\u001b[0m \u001b[1;33m=\u001b[0m \u001b[0mxl\u001b[0m\u001b[1;33m[\u001b[0m\u001b[1;33m[\u001b[0m\u001b[1;36m1\u001b[0m\u001b[1;33m,\u001b[0m\u001b[1;36m3\u001b[0m\u001b[1;33m]\u001b[0m\u001b[1;33m]\u001b[0m\u001b[1;33m\u001b[0m\u001b[0m\n\u001b[0m\u001b[0;32m      8\u001b[0m \u001b[1;32mprint\u001b[0m \u001b[0mxt\u001b[0m\u001b[1;33m\u001b[0m\u001b[0m\n",
      "\u001b[1;31mTypeError\u001b[0m: list indices must be integers, not list"
     ]
    }
   ],
   "source": [
    "x = np.arange(10.0)\n",
    "print(x, type(x))\n",
    "xl = np.array_split(x, 5)\n",
    "print(type(xl[0]))\n",
    "xd = np.delete(xl, np.array([1,3]), axis = 1)\n",
    "print xd\n",
    "xt = xl[[1,3]]\n",
    "print xtJJ"
   ]
  },
  {
   "cell_type": "code",
   "execution_count": 19,
   "metadata": {
    "collapsed": true
   },
   "outputs": [],
   "source": [
    "  def euclidean_distance(x1, x2):\n",
    "    \"\"\"\n",
    "      Compute the Euclidean distance of two vectors\n",
    "\n",
    "      Inputs:\n",
    "        Two numpy array of shape (D, 1)\n",
    "\n",
    "      Return:\n",
    "        The Euclidean distance of two vectors\n",
    "    \"\"\"\n",
    "    return np.sqrt(np.sum(np.square(x1-x2)))"
   ]
  },
  {
   "cell_type": "code",
   "execution_count": 10,
   "metadata": {
    "collapsed": false
   },
   "outputs": [
    {
     "name": "stdout",
     "output_type": "stream",
     "text": [
      "1.73205080757\n"
     ]
    }
   ],
   "source": [
    "print euclidean_distance(a, b)"
   ]
  },
  {
   "cell_type": "code",
   "execution_count": 65,
   "metadata": {
    "collapsed": false
   },
   "outputs": [
    {
     "name": "stdout",
     "output_type": "stream",
     "text": [
      "[[-1  0  1  2]\n",
      " [ 3  4  5  6]\n",
      " [ 7  8  9 10]]\n",
      "[[ 0.  0.  1.  1.]\n",
      " [ 1.  1.  1.  1.]\n",
      " [ 1.  1.  1.  1.]]\n",
      "[[ 0. -2.  1.  1.]\n",
      " [-4.  1.  1.  1.]\n",
      " [ 1.  1.  1. -4.]]\n",
      "[[-1  1  1  2]\n",
      " [ 0  4  5  6]\n",
      " [ 7  8  9  3]]\n"
     ]
    }
   ],
   "source": [
    "counts = np.zeros((3,4))\n",
    "x  = np.arange(-1, 11, 1).reshape(3, 4)\n",
    "counts[x>0] = 1\n",
    "print x\n",
    "print counts\n",
    "\n",
    "y = [2,0,3]\n",
    "\n",
    "counts[range(x.shape[0]), ind] = -np.sum(counts, axis = 1)\n",
    "print counts\n",
    "\n",
    "x[range(x.shape[0]), ind] = np.array(ind)\n",
    "print x"
   ]
  },
  {
   "cell_type": "code",
   "execution_count": 68,
   "metadata": {
    "collapsed": false
   },
   "outputs": [
    {
     "name": "stdout",
     "output_type": "stream",
     "text": [
      "[[-0.01316434 -0.42915331  0.2655063   0.37970945  0.93661385 -1.93940255]\n",
      " [ 0.12591192 -1.5363093  -0.72346865  0.97366488  0.30114682 -0.93830271]\n",
      " [ 0.76682179 -0.35442487  0.64640027 -0.38476636  1.45727355  3.01229262]\n",
      " [-0.22069972  1.14876028 -0.8716167  -2.14520302  1.11720326 -0.61339555]\n",
      " [ 0.20711121  0.339365   -2.0802548  -1.66263941  1.25352246  0.98599807]]\n",
      "[ 0.37970945  0.30114682  0.64640027  1.14876028 -1.66263941]\n",
      "[[-0.01316434 -0.42915331  0.2655063   0.37970945  0.93661385 -1.93940255]\n",
      " [ 0.12591192 -1.5363093  -0.72346865  0.97366488  0.30114682 -0.93830271]\n",
      " [ 0.76682179 -0.35442487  0.64640027 -0.38476636  1.45727355  3.01229262]\n",
      " [-0.22069972  1.14876028 -0.8716167  -2.14520302  1.11720326 -0.61339555]\n",
      " [ 0.20711121  0.339365   -2.0802548  -1.66263941  1.25352246  0.98599807]]\n",
      "[ 0.  0.  0.  0.  0.]\n"
     ]
    }
   ],
   "source": [
    "x = np.random.randn(5, 6)\n",
    "sub = x[range(5), [3, 4, 2, 1, 3]]\n",
    "print x\n",
    "print sub\n",
    "\n",
    "sub = sub - sub\n",
    "print x\n",
    "print sub"
   ]
  },
  {
   "cell_type": "code",
   "execution_count": 70,
   "metadata": {
    "collapsed": false
   },
   "outputs": [
    {
     "name": "stdout",
     "output_type": "stream",
     "text": [
      "[[-0.01316434 -0.42915331  0.2655063   0.37970945  0.93661385 -1.93940255]\n",
      " [ 0.12591192 -1.5363093  -0.72346865  0.97366488  0.30114682 -0.93830271]\n",
      " [ 0.76682179 -0.35442487  0.64640027 -0.38476636  1.45727355  3.01229262]\n",
      " [-0.22069972  1.14876028 -0.8716167  -2.14520302  1.11720326 -0.61339555]\n",
      " [ 0.20711121  0.339365   -2.0802548  -1.66263941  1.25352246  0.98599807]]\n",
      "[[-0.01316434 -0.42915331  0.2655063   0.37970945  0.93661385 -1.93940255]\n",
      " [ 0.12591192 -1.5363093  -0.72346865  0.97366488  0.30114682 -0.93830271]\n",
      " [ 0.76682179 -0.35442487  0.64640027 -0.38476636  1.45727355  3.01229262]\n",
      " [-0.22069972  1.14876028 -0.8716167  -2.14520302  1.11720326 -0.61339555]\n",
      " [ 0.20711121  0.339365   -2.0802548  -1.66263941  1.25352246  0.98599807]]\n",
      "[[-0.01316434 -0.42915331  0.2655063   0.37970945  0.93661385 -1.93940255]\n",
      " [ 0.12591192 -1.5363093  -0.72346865  0.97366488  0.30114682 -0.93830271]\n",
      " [ 0.76682179 -0.35442487  0.64640027 -0.38476636  1.45727355  3.01229262]\n",
      " [-0.22069972  1.14876028 -0.8716167  -2.14520302  1.11720326 -0.61339555]\n",
      " [ 0.20711121  0.339365   -2.0802548  -1.66263941  1.25352246  0.98599807]]\n",
      "[[-0.00658217 -0.21457666  0.13275315  0.18985473  0.46830693 -0.96970128]\n",
      " [ 0.06295596 -0.76815465 -0.36173433  0.48683244  0.15057341 -0.46915135]\n",
      " [ 0.38341089 -0.17721243  0.32320013 -0.19238318  0.72863677  1.50614631]\n",
      " [-0.11034986  0.57438014 -0.43580835 -1.07260151  0.55860163 -0.30669778]\n",
      " [ 0.1035556   0.1696825  -1.0401274  -0.83131971  0.62676123  0.49299904]]\n"
     ]
    }
   ],
   "source": [
    "y = x\n",
    "print x\n",
    "print y\n",
    "y = y - y / 2\n",
    "print x\n",
    "print y"
   ]
  }
 ],
 "metadata": {
  "kernelspec": {
   "display_name": "Python 2",
   "language": "python",
   "name": "python2"
  },
  "language_info": {
   "codemirror_mode": {
    "name": "ipython",
    "version": 2
   },
   "file_extension": ".py",
   "mimetype": "text/x-python",
   "name": "python",
   "nbconvert_exporter": "python",
   "pygments_lexer": "ipython2",
   "version": "2.7.11"
  }
 },
 "nbformat": 4,
 "nbformat_minor": 0
}
